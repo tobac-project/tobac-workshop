{
 "cells": [
  {
   "cell_type": "code",
   "execution_count": null,
   "metadata": {},
   "outputs": [],
   "source": [
    "import pyart\n",
    "import xarray as xr\n",
    "from s3fs import S3FileSystem\n",
    "import numpy as np\n",
    "import datetime\n",
    "import matplotlib.pyplot as plt\n",
    "import cartopy.crs as ccrs\n",
    "from matplotlib.pyplot import cm as cmaps\n",
    "import pandas as pd"
   ]
  },
  {
   "cell_type": "code",
   "execution_count": 1,
   "metadata": {},
   "outputs": [],
   "source": [
    "%matplotlib inline"
   ]
  },
  {
   "cell_type": "code",
   "execution_count": null,
   "metadata": {},
   "outputs": [],
   "source": [
    "# read in radar data\n",
    "radar = pyart.io.read_nexrad_archive(\"s3://noaa-nexrad-level2/2021/05/26/KGLD/KGLD20210526_155623_V06\")\n"
   ]
  },
  {
   "cell_type": "code",
   "execution_count": null,
   "metadata": {},
   "outputs": [],
   "source": [
    "# read in satellite data\n",
    "fs = s3fs.S3FileSystem(anon=True)\n",
    "aws_url = 's3://noaa-goes16/ABI-L2-MCMIPC/2021/146/15/OR_ABI-L2-MCMIPC-M6_G16_s20211461556154_e20211461558539_c20211461559030.nc'\n",
    "\n",
    "goes_data = xr.open_dataset(fs.open(aws_url), engine='h5netcdf')\n"
   ]
  },
  {
   "cell_type": "code",
   "execution_count": null,
   "metadata": {},
   "outputs": [],
   "source": [
    "'''\n",
    "Because the GOES data comes in without latitude/longitude values, we need to calculate those. \n",
    "'''\n",
    "\n",
    "def lat_lon_reproj(g16nc):\n",
    "\n",
    "    # GOES-R projection info and retrieving relevant constants\n",
    "    proj_info = g16nc[\"goes_imager_projection\"]\n",
    "    lon_origin = proj_info.attrs[\"longitude_of_projection_origin\"]\n",
    "    H = proj_info.attrs[\"perspective_point_height\"] + proj_info.attrs[\"semi_major_axis\"]\n",
    "    r_eq = proj_info.attrs[\"semi_major_axis\"]\n",
    "    r_pol = proj_info.attrs[\"semi_minor_axis\"]\n",
    "\n",
    "    # grid info\n",
    "    lat_rad_1d = g16nc.variables[\"x\"][:]\n",
    "    lon_rad_1d = g16nc.variables[\"y\"][:]\n",
    "\n",
    "    # create meshgrid filled with radian angles\n",
    "    lat_rad, lon_rad = np.meshgrid(lat_rad_1d, lon_rad_1d)\n",
    "\n",
    "    # lat/lon calc routine from satellite radian angle vectors\n",
    "\n",
    "    lambda_0 = (lon_origin * np.pi) / 180.0\n",
    "\n",
    "    a_var = np.power(np.sin(lat_rad), 2.0) + (\n",
    "        np.power(np.cos(lat_rad), 2.0)\n",
    "        * (\n",
    "            np.power(np.cos(lon_rad), 2.0)\n",
    "            + (((r_eq * r_eq) / (r_pol * r_pol)) * np.power(np.sin(lon_rad), 2.0))\n",
    "        )\n",
    "    )\n",
    "    b_var = -2.0 * H * np.cos(lat_rad) * np.cos(lon_rad)\n",
    "    c_var = (H**2.0) - (r_eq**2.0)\n",
    "\n",
    "    r_s = (-1.0 * b_var - np.sqrt((b_var**2) - (4.0 * a_var * c_var))) / (2.0 * a_var)\n",
    "\n",
    "    s_x = r_s * np.cos(lat_rad) * np.cos(lon_rad)\n",
    "    s_y = -r_s * np.sin(lat_rad)\n",
    "    s_z = r_s * np.cos(lat_rad) * np.sin(lon_rad)\n",
    "\n",
    "    lat = (180.0 / np.pi) * (\n",
    "        np.arctan(\n",
    "            ((r_eq * r_eq) / (r_pol * r_pol))\n",
    "            * ((s_z / np.sqrt(((H - s_x) * (H - s_x)) + (s_y * s_y))))\n",
    "        )\n",
    "    )\n",
    "    lon = (lambda_0 - np.arctan(s_y / (H - s_x))) * (180.0 / np.pi)\n",
    "\n",
    "    return lon, lat\n"
   ]
  },
  {
   "cell_type": "code",
   "execution_count": null,
   "metadata": {},
   "outputs": [],
   "source": [
    "# First, we need to grid the input radar data. \n",
    "grid = pyart.map.grid_from_radars(radar, grid_shape=(41, 401, 401),\n",
    "                                  grid_limits=((0.,20000,), (-200000., 200000.), (-200000, 200000.)))\n"
   ]
  },
  {
   "cell_type": "code",
   "execution_count": null,
   "metadata": {},
   "outputs": [],
   "source": [
    "# In Py-ART's graphing suite, there is a display class similar to RadarMapDisplay,\n",
    "# but for grids. To plot the grid:\n",
    "fig = plt.figure(figsize=[8, 8])\n",
    "plt.axis('off')\n",
    "\n",
    "display = pyart.graph.GridMapDisplay(grid)\n",
    "display.plot_grid('reflectivity', level=3, vmin=0, vmax=60, fig=fig)\n"
   ]
  },
  {
   "cell_type": "code",
   "execution_count": null,
   "metadata": {},
   "outputs": [],
   "source": [
    "xr_grid = grid.to_xarray()"
   ]
  },
  {
   "cell_type": "code",
   "execution_count": null,
   "metadata": {},
   "outputs": [],
   "source": [
    "goes_data['time_bounds'][0].values"
   ]
  },
  {
   "cell_type": "code",
   "execution_count": null,
   "metadata": {},
   "outputs": [],
   "source": [
    "goes_data['time_bounds'][0].values"
   ]
  },
  {
   "cell_type": "code",
   "execution_count": null,
   "metadata": {},
   "outputs": [],
   "source": [
    "llons, llats  = lat_lon_reproj(goes_data)\n",
    "full_goes_data = goes_data['CMI_C10'].values\n",
    "in_goes_for_tobac = xr.Dataset(data_vars=\n",
    "    {\n",
    "        \"C10\": ((\"time\",\"Y\", \"X\"), [full_goes_data],)\n",
    "    },\n",
    "    coords=\n",
    "    {\n",
    "        \"time\": [goes_data['time_bounds'][0].values],\n",
    "    \"longitude\": ([\"Y\", \"X\"], llons),\n",
    "    \"latitude\": ([\"Y\", \"X\"], llats)},\n",
    ")\n"
   ]
  },
  {
   "cell_type": "code",
   "execution_count": null,
   "metadata": {},
   "outputs": [],
   "source": [
    "import tobac\n",
    "import tobac.utils"
   ]
  },
  {
   "cell_type": "code",
   "execution_count": null,
   "metadata": {},
   "outputs": [],
   "source": [
    "feature_detection_params = dict()\n",
    "feature_detection_params['threshold'] = [30, 40, 50]\n",
    "feature_detection_params['target'] = 'maximum'\n",
    "feature_detection_params['position_threshold'] = 'weighted_diff'\n",
    "feature_detection_params['n_erosion_threshold'] = 2\n",
    "feature_detection_params['sigma_threshold'] = 1\n",
    "feature_detection_params['n_min_threshold'] = 4\n"
   ]
  },
  {
   "cell_type": "code",
   "execution_count": null,
   "metadata": {},
   "outputs": [],
   "source": [
    "xr_grid_full = xr_grid['reflectivity'][:,4]\n",
    "xr_grid_full['z'] = xr_grid_full.z.assign_attrs({'standard_name': 'altitude'})\n",
    "xr_grid_full['lat'] = xr_grid_full.lat.assign_attrs({'standard_name': 'latitude'})\n",
    "xr_grid_full['lon'] = xr_grid_full.lon.assign_attrs({'standard_name': 'longitude'})\n"
   ]
  },
  {
   "cell_type": "code",
   "execution_count": null,
   "metadata": {},
   "outputs": [],
   "source": [
    "grid_iris = xr_grid_full.to_iris()\n"
   ]
  },
  {
   "cell_type": "code",
   "execution_count": null,
   "metadata": {},
   "outputs": [],
   "source": [
    "out_fd = tobac.feature_detection.feature_detection_multithreshold(grid_iris, 0, **feature_detection_params)"
   ]
  },
  {
   "cell_type": "code",
   "execution_count": null,
   "metadata": {},
   "outputs": [],
   "source": [
    "out_fd"
   ]
  },
  {
   "cell_type": "code",
   "execution_count": null,
   "metadata": {},
   "outputs": [],
   "source": [
    "# we now have 4 detected features in 3D space. \n",
    "\n",
    "fig = plt.figure(figsize=[10, 8])\n",
    "ax = fig.add_subplot(1, 1, 1, projection=ccrs.PlateCarree())\n",
    "ax.set_extent([-101.7, -100.7, 39, 40], crs=ccrs.PlateCarree())\n",
    "\n",
    "cm = ax.pcolormesh(xr_grid['lon'], xr_grid['lat'], xr_grid['reflectivity'][0,4], vmin=-30, vmax=95, \n",
    "                  transform=ccrs.PlateCarree(), cmap = 'viridis')\n",
    "plt.xlim(-101.7, -100.7)\n",
    "plt.ylim(39., 40)\n",
    "cb = plt.colorbar(cm)\n",
    "cb.set_label(\"Reflectivity (dBZ)\", size=14)\n",
    "cb.ax.tick_params(labelsize=14)\n",
    "plt.title(\"KGLD Reflectivity, 2 km AGL, 2021-05-26 15:56\", size=15)\n",
    "plt.scatter(out_fd['longitude'], out_fd['latitude'], 70, transform=ccrs.PlateCarree(), color='grey')\n"
   ]
  },
  {
   "cell_type": "code",
   "execution_count": null,
   "metadata": {},
   "outputs": [],
   "source": [
    "goes_array_iris = in_goes_for_tobac[\"C10\"].to_iris()"
   ]
  },
  {
   "cell_type": "code",
   "execution_count": null,
   "metadata": {},
   "outputs": [],
   "source": [
    "in_goes_for_tobac"
   ]
  },
  {
   "cell_type": "code",
   "execution_count": 3,
   "metadata": {},
   "outputs": [
    {
     "ename": "NameError",
     "evalue": "name 'tobac' is not defined",
     "output_type": "error",
     "traceback": [
      "\u001b[0;31m---------------------------------------------------------------------------\u001b[0m",
      "\u001b[0;31mNameError\u001b[0m                                 Traceback (most recent call last)",
      "Cell \u001b[0;32mIn[3], line 1\u001b[0m\n\u001b[0;32m----> 1\u001b[0m goes_adj_features \u001b[38;5;241m=\u001b[39m \u001b[43mtobac\u001b[49m\u001b[38;5;241m.\u001b[39mutils\u001b[38;5;241m.\u001b[39mtransform_feature_points(out_fd, goes_array_iris)\n",
      "\u001b[0;31mNameError\u001b[0m: name 'tobac' is not defined"
     ]
    }
   ],
   "source": [
    "goes_adj_features = tobac.utils.transform_feature_points(out_fd, goes_array_iris)"
   ]
  },
  {
   "cell_type": "code",
   "execution_count": 23,
   "metadata": {},
   "outputs": [],
   "source": [
    "# the transformed dataframe needs to have identical time to the data to segment on. \n",
    "replacement_dt = np.datetime64(in_goes_for_tobac['time'][0].values, 's')\n",
    "# however, iris cannot deal with times in ms, so we need to drop the ms values.\n",
    "\n",
    "goes_adj_features['time'] = replacement_dt"
   ]
  },
  {
   "cell_type": "code",
   "execution_count": 24,
   "metadata": {},
   "outputs": [],
   "source": [
    "field_time = goes_array_iris.slices_over(\"time\")"
   ]
  },
  {
   "cell_type": "code",
   "execution_count": 25,
   "metadata": {},
   "outputs": [
    {
     "data": {
      "text/html": [
       "<div>\n",
       "<style scoped>\n",
       "    .dataframe tbody tr th:only-of-type {\n",
       "        vertical-align: middle;\n",
       "    }\n",
       "\n",
       "    .dataframe tbody tr th {\n",
       "        vertical-align: top;\n",
       "    }\n",
       "\n",
       "    .dataframe thead th {\n",
       "        text-align: right;\n",
       "    }\n",
       "</style>\n",
       "<table border=\"1\" class=\"dataframe\">\n",
       "  <thead>\n",
       "    <tr style=\"text-align: right;\">\n",
       "      <th></th>\n",
       "      <th>frame</th>\n",
       "      <th>idx</th>\n",
       "      <th>hdim_1</th>\n",
       "      <th>hdim_2</th>\n",
       "      <th>num</th>\n",
       "      <th>threshold_value</th>\n",
       "      <th>feature</th>\n",
       "      <th>time</th>\n",
       "      <th>timestr</th>\n",
       "      <th>projection_y_coordinate</th>\n",
       "      <th>projection_x_coordinate</th>\n",
       "      <th>altitude</th>\n",
       "      <th>latitude</th>\n",
       "      <th>longitude</th>\n",
       "    </tr>\n",
       "    <tr>\n",
       "      <th>index</th>\n",
       "      <th></th>\n",
       "      <th></th>\n",
       "      <th></th>\n",
       "      <th></th>\n",
       "      <th></th>\n",
       "      <th></th>\n",
       "      <th></th>\n",
       "      <th></th>\n",
       "      <th></th>\n",
       "      <th></th>\n",
       "      <th></th>\n",
       "      <th></th>\n",
       "      <th></th>\n",
       "      <th></th>\n",
       "    </tr>\n",
       "  </thead>\n",
       "  <tbody>\n",
       "    <tr>\n",
       "      <th>0</th>\n",
       "      <td>0.0</td>\n",
       "      <td>5.0</td>\n",
       "      <td>373.0</td>\n",
       "      <td>804.0</td>\n",
       "      <td>19.0</td>\n",
       "      <td>30.0</td>\n",
       "      <td>1.0</td>\n",
       "      <td>2021-05-26 15:56:15</td>\n",
       "      <td>2021-05-26 15:56:23</td>\n",
       "      <td>58862.283394</td>\n",
       "      <td>71851.508790</td>\n",
       "      <td>71851.508790</td>\n",
       "      <td>39.872883</td>\n",
       "      <td>-100.885201</td>\n",
       "    </tr>\n",
       "    <tr>\n",
       "      <th>1</th>\n",
       "      <td>0.0</td>\n",
       "      <td>9.0</td>\n",
       "      <td>377.0</td>\n",
       "      <td>790.0</td>\n",
       "      <td>6.0</td>\n",
       "      <td>40.0</td>\n",
       "      <td>2.0</td>\n",
       "      <td>2021-05-26 15:56:15</td>\n",
       "      <td>2021-05-26 15:56:23</td>\n",
       "      <td>50469.609023</td>\n",
       "      <td>40740.283111</td>\n",
       "      <td>40740.283111</td>\n",
       "      <td>39.797444</td>\n",
       "      <td>-101.238116</td>\n",
       "    </tr>\n",
       "    <tr>\n",
       "      <th>2</th>\n",
       "      <td>0.0</td>\n",
       "      <td>11.0</td>\n",
       "      <td>394.0</td>\n",
       "      <td>777.0</td>\n",
       "      <td>54.0</td>\n",
       "      <td>50.0</td>\n",
       "      <td>3.0</td>\n",
       "      <td>2021-05-26 15:56:15</td>\n",
       "      <td>2021-05-26 15:56:23</td>\n",
       "      <td>-1221.241920</td>\n",
       "      <td>25305.251870</td>\n",
       "      <td>25305.251870</td>\n",
       "      <td>39.332809</td>\n",
       "      <td>-101.413212</td>\n",
       "    </tr>\n",
       "    <tr>\n",
       "      <th>3</th>\n",
       "      <td>0.0</td>\n",
       "      <td>12.0</td>\n",
       "      <td>380.0</td>\n",
       "      <td>780.0</td>\n",
       "      <td>7.0</td>\n",
       "      <td>50.0</td>\n",
       "      <td>4.0</td>\n",
       "      <td>2021-05-26 15:56:15</td>\n",
       "      <td>2021-05-26 15:56:23</td>\n",
       "      <td>43316.368018</td>\n",
       "      <td>17254.571781</td>\n",
       "      <td>17254.571781</td>\n",
       "      <td>39.733146</td>\n",
       "      <td>-101.504540</td>\n",
       "    </tr>\n",
       "  </tbody>\n",
       "</table>\n",
       "</div>"
      ],
      "text/plain": [
       "       frame   idx  hdim_1  hdim_2   num  threshold_value  feature  \\\n",
       "index                                                                \n",
       "0        0.0   5.0   373.0   804.0  19.0             30.0      1.0   \n",
       "1        0.0   9.0   377.0   790.0   6.0             40.0      2.0   \n",
       "2        0.0  11.0   394.0   777.0  54.0             50.0      3.0   \n",
       "3        0.0  12.0   380.0   780.0   7.0             50.0      4.0   \n",
       "\n",
       "                     time              timestr  projection_y_coordinate  \\\n",
       "index                                                                     \n",
       "0     2021-05-26 15:56:15  2021-05-26 15:56:23             58862.283394   \n",
       "1     2021-05-26 15:56:15  2021-05-26 15:56:23             50469.609023   \n",
       "2     2021-05-26 15:56:15  2021-05-26 15:56:23             -1221.241920   \n",
       "3     2021-05-26 15:56:15  2021-05-26 15:56:23             43316.368018   \n",
       "\n",
       "       projection_x_coordinate      altitude   latitude   longitude  \n",
       "index                                                                \n",
       "0                 71851.508790  71851.508790  39.872883 -100.885201  \n",
       "1                 40740.283111  40740.283111  39.797444 -101.238116  \n",
       "2                 25305.251870  25305.251870  39.332809 -101.413212  \n",
       "3                 17254.571781  17254.571781  39.733146 -101.504540  "
      ]
     },
     "execution_count": 25,
     "metadata": {},
     "output_type": "execute_result"
    }
   ],
   "source": [
    "goes_adj_features"
   ]
  },
  {
   "cell_type": "code",
   "execution_count": 26,
   "metadata": {},
   "outputs": [],
   "source": [
    "parameters_segmentation=dict()\n",
    "parameters_segmentation['method']='watershed'\n",
    "parameters_segmentation['threshold']=235\n",
    "parameters_segmentation['target']='minimum'\n"
   ]
  },
  {
   "cell_type": "code",
   "execution_count": 27,
   "metadata": {},
   "outputs": [],
   "source": [
    "seg_data, seg_feats = tobac.segmentation.segmentation(goes_adj_features, goes_array_iris, dxy=2000,**parameters_segmentation)"
   ]
  },
  {
   "cell_type": "code",
   "execution_count": 28,
   "metadata": {},
   "outputs": [],
   "source": [
    "seg_data_xr = xr.DataArray.from_iris(seg_data)"
   ]
  },
  {
   "cell_type": "code",
   "execution_count": 29,
   "metadata": {},
   "outputs": [
    {
     "data": {
      "image/png": "[encoded data removed]",
      "text/plain": [
       "<Figure size 1000x800 with 2 Axes>"
      ]
     },
     "metadata": {},
     "output_type": "display_data"
    }
   ],
   "source": [
    "# In Py-ART's graphing suite, there is a display class similar to RadarMapDisplay,\n",
    "# but for grids. To plot the grid:\n",
    "fig = plt.figure(figsize=[10, 8])\n",
    "ax = fig.add_subplot(1, 1, 1, projection=ccrs.PlateCarree())\n",
    "ax.set_extent([-101.7, -100.7, 39, 40], crs=ccrs.PlateCarree())\n",
    "\n",
    "contoured = ax.contourf(in_goes_for_tobac['longitude'], in_goes_for_tobac['latitude'], in_goes_for_tobac['C10'][0],\n",
    "                  transform=ccrs.PlateCarree(), cmap = 'viridis_r')\n",
    "plt.xlim(-101.7, -100.7)\n",
    "plt.ylim(39., 40)\n",
    "unique_seg = np.unique(seg_data_xr)\n",
    "color_map = cmaps.plasma(np.linspace(0, 1, len(unique_seg)))\n",
    "\n",
    "# we have one feature without a segmented area\n",
    "curr_feat = goes_adj_features[goes_adj_features['feature']==1]\n",
    "plt.scatter(curr_feat['longitude'], curr_feat['latitude'], 70, transform=ccrs.PlateCarree(), color='grey')\n",
    "\n",
    "\n",
    "for seg_num, color in zip(unique_seg, color_map):\n",
    "    if seg_num == 0:\n",
    "        continue\n",
    "    curr_seg = (seg_data_xr == seg_num).astype(int)\n",
    "    ax.contour(seg_data_xr['longitude'], seg_data_xr['latitude'], curr_seg, colors=[color,], levels=[0.9,], linewidths=3)\n",
    "    curr_feat = goes_adj_features[goes_adj_features['feature']==seg_num]\n",
    "    plt.scatter(curr_feat['longitude'], curr_feat['latitude'], 70, transform=ccrs.PlateCarree(), color=color)\n",
    "\n",
    "cb = plt.colorbar(contoured)\n",
    "cb.set_label(\"C10 Brightness Temperature (K)\", size=14)\n",
    "cb.ax.tick_params(labelsize=14)\n",
    "#plt.title(\"KGLD Reflectivity, 2 km AGL, 2021-05-26 15:56\", size=15)\n",
    "#plt.savefig(\"./radar_example_2/satellite_wseg.png\", facecolor='w', bbox_inches='tight')"
   ]
  }
 ],
 "metadata": {
  "kernelspec": {
   "display_name": "Python 3 (ipykernel)",
   "language": "python",
   "name": "python3"
  },
  "language_info": {
   "codemirror_mode": {
    "name": "ipython",
    "version": 3
   },
   "file_extension": ".py",
   "mimetype": "text/x-python",
   "name": "python",
   "nbconvert_exporter": "python",
   "pygments_lexer": "ipython3",
   "version": "3.11.0"
  },
  "vscode": {
   "interpreter": {
    "hash": "6cf0f5f47a5f8c4499498fd09c5f60b926c0d7a735ea3410c2fb49fa1c0f928a"
   }
  }
 },
 "nbformat": 4,
 "nbformat_minor": 2
}
